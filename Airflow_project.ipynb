{
 "cells": [
  {
   "cell_type": "code",
   "execution_count": 11,
   "id": "e4940757-f6c4-49e5-9d89-b423ad138006",
   "metadata": {},
   "outputs": [],
   "source": [
    "import pandas as pd\n",
    "import gzip\n",
    "from sqlalchemy import create_engine\n",
    "import sqlite3\n",
    "\n",
    "from airflow import DAG\n",
    "from airflow.operators.python_operator import PythonOperator\n",
    "from datetime import datetime, timedelta"
   ]
  },
  {
   "cell_type": "markdown",
   "id": "c93f30a0-2b28-474a-946c-5f5352a6111e",
   "metadata": {},
   "source": [
    "Step 1: Data Extraction \n",
    "\n",
    "The data extraction involves reading the compressed JSON Lines file and loading it into a DataFrame using pandas."
   ]
  },
  {
   "cell_type": "code",
   "execution_count": 10,
   "id": "a8117bc4-b1cb-404f-8ce2-d24322d9d529",
   "metadata": {},
   "outputs": [],
   "source": [
    "def extract_data():\n",
    "\n",
    "    file_path = 'athlete_events_2006_2016.jsonl'\n",
    "\n",
    "    df = pd.read_json(file_path, lines=True)\n",
    "    df.to_csv('extracted_data.csv', index=False)"
   ]
  },
  {
   "cell_type": "markdown",
   "id": "1eee5d18-9f24-4439-9d85-f03fe1250e0c",
   "metadata": {},
   "source": [
    "Step 2: Data Transformation\n",
    "\n",
    "Transform the data to obtain the necessary information, such as filtering relevant columns and counting medals."
   ]
  },
  {
   "cell_type": "code",
   "execution_count": 6,
   "id": "d6bf632f-8e52-4ce5-99c4-6ffbe49fcabd",
   "metadata": {},
   "outputs": [],
   "source": [
    "def transform_data():\n",
    "    \n",
    "    df = pd.read_csv('extracted_data.csv')\n",
    "\n",
    "    df_filtered = df[['year', 'season', 'noc', 'medal']].dropna(subset=['medal'])\n",
    "    \n",
    "    medal_counts = df_filtered.groupby(['year', 'season', 'noc']).size().reset_index(name='Medal_Count')\n",
    "    \n",
    "    country_counts = df_filtered.groupby(['year', 'season'])['noc'].nunique().reset_index(name='Countries_with_Medals')\n",
    "\n",
    "    medal_counts.to_csv('transformed_medal_counts.csv', index=False)\n",
    "    country_counts.to_csv('transformed_country_counts.csv', index=False)\n"
   ]
  },
  {
   "cell_type": "markdown",
   "id": "757cc284-9879-4c53-94f3-084aeecbd223",
   "metadata": {},
   "source": [
    "Step 3: Data Loading\n",
    "\n",
    "Create a suitable database and define the table structure and then, insert the transformed data into the database."
   ]
  },
  {
   "cell_type": "code",
   "execution_count": 7,
   "id": "817dacca-82b1-4047-b208-dbd1789eb208",
   "metadata": {},
   "outputs": [],
   "source": [
    "def load_data():\n",
    "    \n",
    "    medal_counts = pd.read_csv('transformed_medal_counts.csv')\n",
    "    country_counts = pd.read_csv('transformed_country_counts.csv')\n",
    "    \n",
    "    connection = sqlite3.connect('countries_medals.db')\n",
    "    create_medal_table_query = '''\n",
    "    CREATE TABLE IF NOT EXISTS MedalCounts (\n",
    "        year INT,\n",
    "        season VARCHAR(20),\n",
    "        noc VARCHAR(3),\n",
    "        Medal_Count INT,\n",
    "        PRIMARY KEY (year, season, noc)\n",
    "    );\n",
    "    '''\n",
    "    connection.execute(create_medal_table_query)\n",
    "    medal_counts.to_sql('MedalCounts', connection, if_exists='replace', index=False)\n",
    "\n",
    "    create_medal_table_query = '''\n",
    "    CREATE TABLE IF NOT EXISTS CountryCounts (\n",
    "        year INT,\n",
    "        season VARCHAR(20),\n",
    "        Countries_with_Medals INT,\n",
    "        PRIMARY KEY (year, season)\n",
    "    );\n",
    "    '''\n",
    "    connection.execute(create_country_table_query)\n",
    "    country_counts.to_sql('CountryCounts', connection, if_exists='replace', index=False)\n",
    "    \n",
    "    connection.commit()\n",
    "    connection.close()\n"
   ]
  },
  {
   "cell_type": "markdown",
   "id": "a879ac90-0e4a-4212-94a4-03d506ed1942",
   "metadata": {},
   "source": [
    "Step 4: Automation and Scheduling\n",
    "\n",
    "Use tools like Apache Airflow for scheduling the ETL pipeline. Below is an example to schedule dags using Airflow"
   ]
  },
  {
   "cell_type": "code",
   "execution_count": 12,
   "id": "bfeb4962-9ece-43da-ac82-cfdbbb895afb",
   "metadata": {},
   "outputs": [],
   "source": [
    "default_args = {\n",
    "    'owner': 'airflow',\n",
    "    'depends_on_past': False,\n",
    "    'start_date': datetime(2023, 1, 1),\n",
    "    'retries': 1,\n",
    "    'retry_delay': timedelta(minutes=5),\n",
    "}\n",
    "\n",
    "dag = DAG(\n",
    "    'etl_pipeline',\n",
    "    default_args=default_args,\n",
    "    description='ETL pipeline for athlete events data',\n",
    "    schedule_interval=timedelta(days=1),\n",
    ")\n",
    "\n",
    "extract_task = PythonOperator(\n",
    "   task_id='extract_data',\n",
    "    python_callable=extract_data,\n",
    "    dag=dag,\n",
    ")\n",
    "\n",
    "transform_task = PythonOperator(\n",
    "    task_id='transform_data',\n",
    "    python_callable=transform_data,\n",
    "    dag=dag,\n",
    ")\n",
    "\n",
    "load_task = PythonOperator(\n",
    "    task_id='load_data',\n",
    "    python_callable=load_data,\n",
    "    dag=dag,\n",
    ")\n",
    "\n",
    "extract_task >> transform_task >> load_task"
   ]
  },
  {
   "cell_type": "markdown",
   "id": "1edaa8cc-150e-4a3f-9f89-5dec5191eb7f",
   "metadata": {},
   "source": [
    "Step 5: Tools Recommendation\n",
    "\n",
    "Use tools like Fivetran for the ETL process for a managed service. AWS components like Lambda and S3 can also be used for automation.\n",
    "\n",
    "Extraction: AWS S3 for file storage.\n",
    "Transformation: AWS Lambda for processing data.\n",
    "Loading: AWS Redshift or an RDS database for storing processed data."
   ]
  },
  {
   "cell_type": "code",
   "execution_count": null,
   "id": "329827d4-dee4-4c86-bfb5-c01c8f90cc17",
   "metadata": {},
   "outputs": [],
   "source": []
  }
 ],
 "metadata": {
  "kernelspec": {
   "display_name": "Python 3 (ipykernel)",
   "language": "python",
   "name": "python3"
  },
  "language_info": {
   "codemirror_mode": {
    "name": "ipython",
    "version": 3
   },
   "file_extension": ".py",
   "mimetype": "text/x-python",
   "name": "python",
   "nbconvert_exporter": "python",
   "pygments_lexer": "ipython3",
   "version": "3.11.7"
  }
 },
 "nbformat": 4,
 "nbformat_minor": 5
}
